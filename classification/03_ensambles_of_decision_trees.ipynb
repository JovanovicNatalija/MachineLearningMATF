{
 "cells": [
  {
   "cell_type": "markdown",
   "metadata": {},
   "source": [
    "# Ensambles of Decision Trees "
   ]
  },
  {
   "cell_type": "code",
   "execution_count": 1,
   "metadata": {},
   "outputs": [],
   "source": [
    "import numpy as np\n",
    "import pandas as pd\n",
    "import matplotlib.pyplot as plt\n",
    "\n",
    "from sklearn import model_selection\n",
    "from sklearn import preprocessing\n",
    "from sklearn import metrics\n",
    "\n",
    "from sklearn import ensemble"
   ]
  },
  {
   "cell_type": "code",
   "execution_count": 2,
   "metadata": {},
   "outputs": [],
   "source": [
    "#loading data for binary classification\n",
    "\n",
    "data_earthquakes = pd.read_csv('data_for_classification.csv')\n",
    "data_earthquakes.head()\n",
    "\n",
    "X = data_earthquakes[['Latitude', 'Longitude', 'Depth', 'Magnitude', 'Distance']]"
   ]
  },
  {
   "cell_type": "markdown",
   "metadata": {},
   "source": [
    "Function that performs classification with RandomForestClassifier:  \n",
    "(Function depends on the name of the target variable)"
   ]
  },
  {
   "cell_type": "code",
   "execution_count": 3,
   "metadata": {},
   "outputs": [],
   "source": [
    "# target_name = ['Is-erupting' | 'Is-erupting-tomorrow' | 'Is-erupting-next-week']\n",
    "\n",
    "def random_forest_classication(target_name):\n",
    "    \n",
    "    y = data_earthquakes[target_name]\n",
    "    \n",
    "    X_train_validation, X_test, y_train_validation, y_test = \\\n",
    "        model_selection.train_test_split(X, y, test_size = 0.33, random_state = 7, stratify = y)\n",
    "    \n",
    "    # standardization    \n",
    "    scaler = preprocessing.StandardScaler()\n",
    "    scaler.fit(X_train_validation)\n",
    "    X_train_validation = scaler.transform(X_train_validation)\n",
    "    X_test = scaler.transform(X_test)\n",
    "    \n",
    "    \n",
    "    # using grid search to find the optimal hyperparameters of a model\n",
    "    \n",
    "    grid_model = ensemble.RandomForestClassifier()\n",
    "    \n",
    "    params = {\n",
    "        'n_estimators': range(50, 65, 5), \n",
    "        'max_depth': range(35, 50, 5)\n",
    "    }\n",
    "    \n",
    "    grid = model_selection.GridSearchCV(grid_model, param_grid=params, scoring='recall', \n",
    "                                        cv=10, return_train_score=True)\n",
    "    grid.fit(X_train_validation, y_train_validation)\n",
    "    \n",
    "    print('Best recall score: ', grid.best_score_)\n",
    "    print('Best parameters: \\n\\tn_estimators: ', grid.best_params_['n_estimators'], \n",
    "          '\\n\\tmax_depth: ', grid.best_params_['max_depth'])\n",
    "    \n",
    "    \n",
    "    \n",
    "    # testing\n",
    "    model = ensemble.RandomForestClassifier(n_estimators=grid.best_params_['n_estimators'], \n",
    "                                            max_depth=grid.best_params_['max_depth'], random_state=7)\n",
    "\n",
    "    model.fit(X_train_validation, y_train_validation)\n",
    "    y_test_predicted = model.predict(X_test)\n",
    "    y_train_predicted = model.predict(X_train_validation)\n",
    "    \n",
    "    \n",
    "    print('\\n\\nTest results')\n",
    "    \n",
    "    print('\\taccuracy_score: ', metrics.accuracy_score(y_test, y_test_predicted))\n",
    "    print('\\trecall_score: ', metrics.recall_score(y_test, y_test_predicted))\n",
    "    print('\\tf1_score: ', metrics.f1_score(y_test, y_test_predicted))\n",
    "    print('\\nConfusion matrix on test data: ')\n",
    "    print(metrics.confusion_matrix(y_test, y_test_predicted))\n",
    "    \n",
    "    \n",
    "    print('\\n\\nTrain results')\n",
    "    \n",
    "    print('\\taccuracy_score: ', metrics.accuracy_score(y_train_validation, y_train_predicted))\n",
    "    print('\\trecall_score: ', metrics.recall_score(y_train_validation, y_train_predicted))\n",
    "    print('\\tf1_score: ', metrics.f1_score(y_train_validation, y_train_predicted))\n",
    "    print('\\nConfusion matrix on train data')\n",
    "    print(metrics.confusion_matrix(y_train_validation, y_train_predicted))\n",
    "    \n",
    "    \n",
    "    # cross validation\n",
    "    \n",
    "    kf = model_selection.StratifiedKFold(n_splits=5, shuffle=True, random_state=1)\n",
    "    \n",
    "    model = ensemble.RandomForestClassifier(n_estimators=grid.best_params_['n_estimators'], \n",
    "                                            max_depth=grid.best_params_['max_depth'], random_state=7)\n",
    "\n",
    "    scores = model_selection.cross_val_score(model, X, y, scoring='recall', cv=kf)\n",
    "    print('\\nCross validation mean recall score: ', scores.mean())"
   ]
  },
  {
   "cell_type": "markdown",
   "metadata": {},
   "source": [
    "### Predicting whether an eruption is in progress"
   ]
  },
  {
   "cell_type": "code",
   "execution_count": 4,
   "metadata": {},
   "outputs": [
    {
     "name": "stdout",
     "output_type": "stream",
     "text": [
      "Best recall score:  0.6564109270560883\n",
      "Best parameters: \n",
      "\tn_estimators:  55 \n",
      "\tmax_depth:  35\n",
      "\n",
      "\n",
      "Test results\n",
      "\taccuracy_score:  0.9445503378963784\n",
      "\trecall_score:  0.6950819672131148\n",
      "\tf1_score:  0.7989949748743719\n",
      "\n",
      "Confusion matrix on test data: \n",
      "[[4815   41]\n",
      " [ 279  636]]\n",
      "\n",
      "\n",
      "Train results\n",
      "\taccuracy_score:  0.9997439180537772\n",
      "\trecall_score:  0.9983844911147012\n",
      "\tf1_score:  0.9991915925626517\n",
      "\n",
      "Confusion matrix on train data\n",
      "[[9858    0]\n",
      " [   3 1854]]\n",
      "\n",
      "Cross validation mean recall score:  0.8105929033726869\n"
     ]
    }
   ],
   "source": [
    "random_forest_classication('Is-erupting')"
   ]
  },
  {
   "cell_type": "markdown",
   "metadata": {},
   "source": [
    "### Predicting whether there will be an eruption tomorrow"
   ]
  },
  {
   "cell_type": "code",
   "execution_count": 5,
   "metadata": {},
   "outputs": [
    {
     "name": "stdout",
     "output_type": "stream",
     "text": [
      "Best recall score:  0.700250626566416\n",
      "Best parameters: \n",
      "\tn_estimators:  55 \n",
      "\tmax_depth:  35\n",
      "\n",
      "\n",
      "Test results\n",
      "\taccuracy_score:  0.9850979033096517\n",
      "\trecall_score:  0.7050359712230215\n",
      "\tf1_score:  0.8200836820083681\n",
      "\n",
      "Confusion matrix on test data: \n",
      "[[5489    4]\n",
      " [  82  196]]\n",
      "\n",
      "\n",
      "Train results\n",
      "\taccuracy_score:  0.9998292787025181\n",
      "\trecall_score:  0.9964539007092199\n",
      "\tf1_score:  0.9982238010657194\n",
      "\n",
      "Confusion matrix on train data\n",
      "[[11151     0]\n",
      " [    2   562]]\n",
      "\n",
      "Cross validation mean recall score:  0.817061143984221\n"
     ]
    }
   ],
   "source": [
    "random_forest_classication('Is-erupting-tomorrow')"
   ]
  },
  {
   "cell_type": "markdown",
   "metadata": {},
   "source": [
    "### Predicting whether there will be an eruption next week"
   ]
  },
  {
   "cell_type": "code",
   "execution_count": 6,
   "metadata": {},
   "outputs": [
    {
     "name": "stdout",
     "output_type": "stream",
     "text": [
      "Best recall score:  0.6403270914396887\n",
      "Best parameters: \n",
      "\tn_estimators:  55 \n",
      "\tmax_depth:  45\n",
      "\n",
      "\n",
      "Test results\n",
      "\taccuracy_score:  0.920291110726044\n",
      "\trecall_score:  0.6798418972332015\n",
      "\tf1_score:  0.7889908256880733\n",
      "\n",
      "Confusion matrix on test data: \n",
      "[[4451   55]\n",
      " [ 405  860]]\n",
      "\n",
      "\n",
      "Train results\n",
      "\taccuracy_score:  0.9998292787025181\n",
      "\trecall_score:  0.9992214869599065\n",
      "\tf1_score:  0.9996105919003115\n",
      "\n",
      "Confusion matrix on train data\n",
      "[[9146    0]\n",
      " [   2 2567]]\n",
      "\n",
      "Cross validation mean recall score:  0.8145540081903315\n"
     ]
    }
   ],
   "source": [
    "random_forest_classication('Is-erupting-next-week')"
   ]
  }
 ],
 "metadata": {
  "kernelspec": {
   "display_name": "Python 3",
   "language": "python",
   "name": "python3"
  },
  "language_info": {
   "codemirror_mode": {
    "name": "ipython",
    "version": 3
   },
   "file_extension": ".py",
   "mimetype": "text/x-python",
   "name": "python",
   "nbconvert_exporter": "python",
   "pygments_lexer": "ipython3",
   "version": "3.7.6"
  }
 },
 "nbformat": 4,
 "nbformat_minor": 4
}
