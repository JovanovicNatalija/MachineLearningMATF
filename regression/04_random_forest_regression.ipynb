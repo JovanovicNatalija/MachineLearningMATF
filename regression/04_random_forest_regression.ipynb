{
 "cells": [
  {
   "cell_type": "code",
   "execution_count": 7,
   "metadata": {},
   "outputs": [],
   "source": [
    "import numpy as np\n",
    "import pandas as pd\n",
    "import matplotlib.pyplot as plt\n",
    "\n",
    "from sklearn import model_selection\n",
    "from sklearn import preprocessing\n",
    "from sklearn import metrics\n",
    "\n",
    "from sklearn import ensemble"
   ]
  },
  {
   "cell_type": "code",
   "execution_count": 8,
   "metadata": {
    "scrolled": true
   },
   "outputs": [],
   "source": [
    "#loading data for regression\n",
    "data_earthquakes = pd.read_csv('../data/data_for_regression.csv')\n",
    "\n",
    "X = data_earthquakes[['Latitude', 'Longitude', 'Depth', 'Magnitude', 'Distance']]\n",
    "y = data_earthquakes['Days-till-eruption']"
   ]
  },
  {
   "cell_type": "markdown",
   "metadata": {},
   "source": [
    "Traget data:"
   ]
  },
  {
   "cell_type": "code",
   "execution_count": 9,
   "metadata": {},
   "outputs": [
    {
     "data": {
      "text/plain": [
       "<matplotlib.axes._subplots.AxesSubplot at 0x7fdbcdb42290>"
      ]
     },
     "execution_count": 9,
     "metadata": {},
     "output_type": "execute_result"
    },
    {
     "data": {
      "image/png": "[encoded data removed]",
      "text/plain": [
       "<Figure size 432x288 with 1 Axes>"
      ]
     },
     "metadata": {
      "needs_background": "light"
     },
     "output_type": "display_data"
    }
   ],
   "source": [
    "y.hist(color = 'red', alpha = 0.4)"
   ]
  },
  {
   "cell_type": "code",
   "execution_count": 10,
   "metadata": {},
   "outputs": [],
   "source": [
    "X_train_validation, X_test, y_train_validation, y_test = model_selection.train_test_split(X, y, test_size = 0.33)\n",
    "\n",
    "# standardization    \n",
    "scaler = preprocessing.StandardScaler()\n",
    "scaler.fit(X_train_validation)\n",
    "X_train_validation = scaler.transform(X_train_validation)\n",
    "X_test = scaler.transform(X_test)\n"
   ]
  },
  {
   "cell_type": "markdown",
   "metadata": {},
   "source": [
    "Using grid search to find the optimal hyperparameters of a model"
   ]
  },
  {
   "cell_type": "code",
   "execution_count": 16,
   "metadata": {},
   "outputs": [
    {
     "name": "stdout",
     "output_type": "stream",
     "text": [
      "Best r2 score:  0.5080500208300982\n",
      "Best parameters: \n",
      "\tn_estimators:  57 \n",
      "\tmax_depth:  45\n"
     ]
    }
   ],
   "source": [
    "grid_model = ensemble.RandomForestRegressor()\n",
    "\n",
    "params = {\n",
    "    'n_estimators': range(54, 58), \n",
    "    'max_depth': range(44, 48)\n",
    "}\n",
    "\n",
    "grid = model_selection.GridSearchCV(grid_model, param_grid=params, scoring='r2', cv=10, return_train_score=True)\n",
    "grid.fit(X_train_validation, y_train_validation)\n",
    "\n",
    "print('Best r2 score: ', grid.best_score_)\n",
    "print('Best parameters: \\n\\tn_estimators: ', grid.best_params_['n_estimators'], \n",
    "      '\\n\\tmax_depth: ', grid.best_params_['max_depth'])\n"
   ]
  },
  {
   "cell_type": "markdown",
   "metadata": {},
   "source": [
    "Testing model with optimal parameters"
   ]
  },
  {
   "cell_type": "code",
   "execution_count": 17,
   "metadata": {},
   "outputs": [
    {
     "name": "stdout",
     "output_type": "stream",
     "text": [
      "Test results\n",
      "r2_score:  0.5952146455979466\n",
      "RMSE:  8.624012184199982\n",
      "\n",
      "\n",
      "Train results\n",
      "r2_score:  0.9358952912822978\n",
      "RMSE:  3.4364838586292867\n"
     ]
    }
   ],
   "source": [
    "model = ensemble.RandomForestRegressor(n_estimators=grid.best_params_['n_estimators'], \n",
    "                                       max_depth=grid.best_params_['max_depth'])\n",
    "\n",
    "model.fit(X_train_validation, y_train_validation)\n",
    "y_test_predicted = model.predict(X_test)\n",
    "y_train_predicted = model.predict(X_train_validation)\n",
    "\n",
    "print('Test results')\n",
    "print('r2_score: ', metrics.r2_score(y_test, y_test_predicted))\n",
    "print('RMSE: ', metrics.mean_squared_error(y_test, y_test_predicted, squared=False))\n",
    "\n",
    "print('\\n\\nTrain results')\n",
    "print('r2_score: ', metrics.r2_score(y_train_validation, y_train_predicted))\n",
    "print('RMSE: ', metrics.mean_squared_error(y_train_validation, y_train_predicted, squared=False))"
   ]
  },
  {
   "cell_type": "markdown",
   "metadata": {},
   "source": [
    "Cross validation on model with optimal parameters"
   ]
  },
  {
   "cell_type": "code",
   "execution_count": 18,
   "metadata": {},
   "outputs": [
    {
     "name": "stdout",
     "output_type": "stream",
     "text": [
      "Cross validation r_2 score:  0.6630795756421121\n"
     ]
    }
   ],
   "source": [
    "kf = model_selection.KFold(n_splits=5, shuffle=True, random_state=1)\n",
    "\n",
    "model = ensemble.RandomForestRegressor(n_estimators=grid.best_params_['n_estimators'], \n",
    "                                        max_depth=grid.best_params_['max_depth'])\n",
    "\n",
    "scores = model_selection.cross_val_score(model, X, y, scoring='r2', cv=kf)\n",
    "print('Cross validation r_2 score: ', scores.mean())"
   ]
  },
  {
   "cell_type": "markdown",
   "metadata": {},
   "source": [
    "## Trying out bigger 'n_estimators' value"
   ]
  },
  {
   "cell_type": "code",
   "execution_count": 11,
   "metadata": {},
   "outputs": [
    {
     "name": "stdout",
     "output_type": "stream",
     "text": [
      "Best r2 score:  0.5148183536560684\n",
      "Best parameters: \n",
      "\tn_estimators:  200 \n",
      "\tmax_depth:  45\n"
     ]
    }
   ],
   "source": [
    "grid_model = ensemble.RandomForestRegressor()\n",
    "\n",
    "params = {\n",
    "    'n_estimators': [100, 200], \n",
    "    'max_depth': range(44, 48)\n",
    "}\n",
    "\n",
    "grid = model_selection.GridSearchCV(grid_model, param_grid=params, scoring='r2', cv=10, return_train_score=True)\n",
    "grid.fit(X_train_validation, y_train_validation)\n",
    "\n",
    "print('Best r2 score: ', grid.best_score_)\n",
    "print('Best parameters: \\n\\tn_estimators: ', grid.best_params_['n_estimators'], \n",
    "      '\\n\\tmax_depth: ', grid.best_params_['max_depth'])\n"
   ]
  },
  {
   "cell_type": "markdown",
   "metadata": {},
   "source": [
    "Testing model with optimal parameters"
   ]
  },
  {
   "cell_type": "code",
   "execution_count": 14,
   "metadata": {},
   "outputs": [
    {
     "name": "stdout",
     "output_type": "stream",
     "text": [
      "Test results\n",
      "r2_score:  0.598525356469773\n",
      "RMSE:  8.588672181207048\n",
      "\n",
      "\n",
      "Train results\n",
      "r2_score:  0.9408103337576093\n",
      "RMSE:  3.3021157170496984\n"
     ]
    }
   ],
   "source": [
    "model = ensemble.RandomForestRegressor(n_estimators=grid.best_params_['n_estimators'], \n",
    "                                       max_depth=grid.best_params_['max_depth'])\n",
    "\n",
    "model.fit(X_train_validation, y_train_validation)\n",
    "y_test_predicted = model.predict(X_test)\n",
    "y_train_predicted = model.predict(X_train_validation)\n",
    "\n",
    "print('Test results')\n",
    "print('r2_score: ', metrics.r2_score(y_test, y_test_predicted))\n",
    "print('RMSE: ', metrics.mean_squared_error(y_test, y_test_predicted, squared=False))\n",
    "\n",
    "print('\\n\\nTrain results')\n",
    "print('r2_score: ', metrics.r2_score(y_train_validation, y_train_predicted))\n",
    "print('RMSE: ', metrics.mean_squared_error(y_train_validation, y_train_predicted, squared=False))"
   ]
  },
  {
   "cell_type": "markdown",
   "metadata": {},
   "source": [
    "Cross validation on model with optimal parameters"
   ]
  },
  {
   "cell_type": "code",
   "execution_count": 15,
   "metadata": {},
   "outputs": [
    {
     "name": "stdout",
     "output_type": "stream",
     "text": [
      "Cross validation r_2 score:  0.6708265246821624\n"
     ]
    }
   ],
   "source": [
    "kf = model_selection.KFold(n_splits=5, shuffle=True, random_state=1)\n",
    "\n",
    "model = ensemble.RandomForestRegressor(n_estimators=grid.best_params_['n_estimators'], \n",
    "                                        max_depth=grid.best_params_['max_depth'])\n",
    "\n",
    "scores = model_selection.cross_val_score(model, X, y, scoring='r2', cv=kf)\n",
    "print('Cross validation r_2 score: ', scores.mean())"
   ]
  }
 ],
 "metadata": {
  "kernelspec": {
   "display_name": "Python 3",
   "language": "python",
   "name": "python3"
  },
  "language_info": {
   "codemirror_mode": {
    "name": "ipython",
    "version": 3
   },
   "file_extension": ".py",
   "mimetype": "text/x-python",
   "name": "python",
   "nbconvert_exporter": "python",
   "pygments_lexer": "ipython3",
   "version": "3.7.6"
  }
 },
 "nbformat": 4,
 "nbformat_minor": 4
}
