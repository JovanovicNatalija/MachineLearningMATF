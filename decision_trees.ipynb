{
 "cells": [
  {
   "cell_type": "markdown",
   "metadata": {},
   "source": [
    "# Decision Trees"
   ]
  },
  {
   "cell_type": "code",
   "execution_count": 1,
   "metadata": {},
   "outputs": [],
   "source": [
    "import numpy as np\n",
    "import pandas as pd\n",
    "import matplotlib.pyplot as plt\n",
    "\n",
    "from sklearn import model_selection\n",
    "from sklearn import preprocessing\n",
    "from sklearn import metrics\n",
    "\n",
    "from sklearn import tree"
   ]
  },
  {
   "cell_type": "code",
   "execution_count": 2,
   "metadata": {},
   "outputs": [],
   "source": [
    "#loading data for binary classification\n",
    "data_earthquakes = pd.read_csv('data_for_classification.csv')\n",
    "\n",
    "X = data_earthquakes[['Latitude', 'Longitude', 'Depth', 'Magnitude', 'Distance']]"
   ]
  },
  {
   "cell_type": "markdown",
   "metadata": {},
   "source": [
    "Function that performs classification with DecisionTreeClassifier:   \n",
    "(Function depends on the name of the target variable)"
   ]
  },
  {
   "cell_type": "code",
   "execution_count": 3,
   "metadata": {},
   "outputs": [],
   "source": [
    "# target_name = ['Is-erupting' | 'Is-erupting-tomorrow' | 'Is-erupting-next-week']\n",
    "\n",
    "def decision_tree_classication(target_name):\n",
    "    \n",
    "    y = data_earthquakes[target_name]\n",
    "    \n",
    "    X_train_validation, X_test, y_train_validation, y_test = \\\n",
    "        model_selection.train_test_split(X, y, test_size = 0.33, random_state = 7, stratify = y)\n",
    "    \n",
    "    # standardization    \n",
    "    scaler = preprocessing.StandardScaler()\n",
    "    scaler.fit(X_train_validation)\n",
    "    X_train_validation = scaler.transform(X_train_validation)\n",
    "    X_test = scaler.transform(X_test)\n",
    "    \n",
    "    \n",
    "    # using grid search to find the optimal hyperparameters of a model\n",
    "    \n",
    "    grid_model = tree.DecisionTreeClassifier(max_features=2)\n",
    "    \n",
    "    params = {\n",
    "        'criterion': ['entropy', 'gini'], \n",
    "        'max_depth': range(30, 65, 3)\n",
    "    }\n",
    "    \n",
    "    grid = model_selection.GridSearchCV(grid_model, param_grid=params, scoring='recall', \n",
    "                                        cv=10, return_train_score=True)\n",
    "    grid.fit(X_train_validation, y_train_validation)\n",
    "    \n",
    "    print('Best recall score: ', grid.best_score_)\n",
    "    print('Best parameters: \\n\\tCriterion: ', grid.best_params_['criterion'], \n",
    "          '\\n\\tMax_depth: ', grid.best_params_['max_depth'])\n",
    "    \n",
    "    \n",
    "    \n",
    "    # testing\n",
    "    model = tree.DecisionTreeClassifier(criterion=grid.best_params_['criterion'], max_features=2, \n",
    "                                    max_depth=grid.best_params_['max_depth'], random_state=7)\n",
    "\n",
    "    model.fit(X_train_validation, y_train_validation)\n",
    "    y_test_predicted = model.predict(X_test)\n",
    "    y_train_predicted = model.predict(X_train_validation)\n",
    "    \n",
    "    \n",
    "    print('\\n\\nTest results')\n",
    "    \n",
    "    print('\\taccuracy_score: ', metrics.accuracy_score(y_test, y_test_predicted))\n",
    "    print('\\trecall_score: ', metrics.recall_score(y_test, y_test_predicted))\n",
    "    print('\\tf1_score: ', metrics.f1_score(y_test, y_test_predicted))\n",
    "    print('\\nConfusion matrix on test data: ')\n",
    "    print(metrics.confusion_matrix(y_test, y_test_predicted))\n",
    "    \n",
    "    \n",
    "    print('\\n\\nTrain results')\n",
    "    \n",
    "    print('\\taccuracy_score: ', metrics.accuracy_score(y_train_validation, y_train_predicted))\n",
    "    print('\\trecall_score: ', metrics.recall_score(y_train_validation, y_train_predicted))\n",
    "    print('\\tf1_score: ', metrics.f1_score(y_train_validation, y_train_predicted))\n",
    "    print('\\nConfusion matrix on train data')\n",
    "    print(metrics.confusion_matrix(y_train_validation, y_train_predicted))\n",
    "    \n",
    "    \n",
    "    # cross validation\n",
    "    \n",
    "    kf = model_selection.StratifiedKFold(n_splits=5, shuffle=True, random_state=1)\n",
    "\n",
    "    model = tree.DecisionTreeClassifier(criterion=grid.best_params_['criterion'], max_features=2, \n",
    "                                        max_depth=grid.best_params_['max_depth'], random_state=7)\n",
    "\n",
    "    scores = model_selection.cross_val_score(model, X, y, scoring='recall', cv=kf)\n",
    "    print('\\nCross validation mean recall score: ', scores.mean())"
   ]
  },
  {
   "cell_type": "markdown",
   "metadata": {},
   "source": [
    "### Predicting whether an eruption is in progress"
   ]
  },
  {
   "cell_type": "code",
   "execution_count": 4,
   "metadata": {},
   "outputs": [
    {
     "name": "stdout",
     "output_type": "stream",
     "text": [
      "Best recall score:  0.7156814879395526\n",
      "Best parameters: \n",
      "\tCriterion:  gini \n",
      "\tMax_depth:  54\n",
      "\n",
      "\n",
      "Test results\n",
      "\taccuracy_score:  0.9180384682030844\n",
      "\trecall_score:  0.7366120218579235\n",
      "\tf1_score:  0.7402526084568918\n",
      "\n",
      "Confusion matrix on test data: \n",
      "[[4624  232]\n",
      " [ 241  674]]\n",
      "\n",
      "\n",
      "Train results\n",
      "\taccuracy_score:  1.0\n",
      "\trecall_score:  1.0\n",
      "\tf1_score:  1.0\n",
      "\n",
      "Confusion matrix on train data\n",
      "[[9858    0]\n",
      " [   0 1857]]\n",
      "\n",
      "Cross validation mean recall score:  0.8336832861742609\n"
     ]
    }
   ],
   "source": [
    "decision_tree_classication('Is-erupting')"
   ]
  },
  {
   "cell_type": "markdown",
   "metadata": {},
   "source": [
    "### Predicting whether there will be an eruption tomorrow"
   ]
  },
  {
   "cell_type": "code",
   "execution_count": 5,
   "metadata": {},
   "outputs": [
    {
     "name": "stdout",
     "output_type": "stream",
     "text": [
      "Best recall score:  0.7233082706766917\n",
      "Best parameters: \n",
      "\tCriterion:  entropy \n",
      "\tMax_depth:  60\n",
      "\n",
      "\n",
      "Test results\n",
      "\taccuracy_score:  0.9747010916652227\n",
      "\trecall_score:  0.7122302158273381\n",
      "\tf1_score:  0.7306273062730627\n",
      "\n",
      "Confusion matrix on test data: \n",
      "[[5427   66]\n",
      " [  80  198]]\n",
      "\n",
      "\n",
      "Train results\n",
      "\taccuracy_score:  1.0\n",
      "\trecall_score:  1.0\n",
      "\tf1_score:  1.0\n",
      "\n",
      "Confusion matrix on train data\n",
      "[[11151     0]\n",
      " [    0   564]]\n",
      "\n",
      "Cross validation mean recall score:  0.8301141166525781\n"
     ]
    }
   ],
   "source": [
    "decision_tree_classication('Is-erupting-tomorrow')"
   ]
  },
  {
   "cell_type": "markdown",
   "metadata": {},
   "source": [
    "### Predicting whether there will be an eruption next week"
   ]
  },
  {
   "cell_type": "code",
   "execution_count": 6,
   "metadata": {},
   "outputs": [
    {
     "name": "stdout",
     "output_type": "stream",
     "text": [
      "Best recall score:  0.7205192120622568\n",
      "Best parameters: \n",
      "\tCriterion:  gini \n",
      "\tMax_depth:  51\n",
      "\n",
      "\n",
      "Test results\n",
      "\taccuracy_score:  0.8925662796742332\n",
      "\trecall_score:  0.7581027667984189\n",
      "\tf1_score:  0.7557131599684792\n",
      "\n",
      "Confusion matrix on test data: \n",
      "[[4192  314]\n",
      " [ 306  959]]\n",
      "\n",
      "\n",
      "Train results\n",
      "\taccuracy_score:  1.0\n",
      "\trecall_score:  1.0\n",
      "\tf1_score:  1.0\n",
      "\n",
      "Confusion matrix on train data\n",
      "[[9146    0]\n",
      " [   0 2569]]\n",
      "\n",
      "Cross validation mean recall score:  0.8555022620429533\n"
     ]
    }
   ],
   "source": [
    "decision_tree_classication('Is-erupting-next-week')"
   ]
  }
 ],
 "metadata": {
  "kernelspec": {
   "display_name": "Python 3",
   "language": "python",
   "name": "python3"
  },
  "language_info": {
   "codemirror_mode": {
    "name": "ipython",
    "version": 3
   },
   "file_extension": ".py",
   "mimetype": "text/x-python",
   "name": "python",
   "nbconvert_exporter": "python",
   "pygments_lexer": "ipython3",
   "version": "3.7.6"
  }
 },
 "nbformat": 4,
 "nbformat_minor": 4
}
