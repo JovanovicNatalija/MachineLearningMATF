{
 "cells": [
  {
   "cell_type": "markdown",
   "metadata": {},
   "source": [
    "## Gradient Boosting Regression"
   ]
  },
  {
   "cell_type": "code",
   "execution_count": 1,
   "metadata": {},
   "outputs": [],
   "source": [
    "import numpy as np\n",
    "import pandas as pd\n",
    "import matplotlib.pyplot as plt\n",
    "\n",
    "from sklearn import model_selection\n",
    "from sklearn import preprocessing\n",
    "from sklearn import metrics\n",
    "\n",
    "from sklearn import ensemble\n",
    "import pickle"
   ]
  },
  {
   "cell_type": "code",
   "execution_count": 2,
   "metadata": {
    "scrolled": true
   },
   "outputs": [],
   "source": [
    "#loading data for regression\n",
    "data_earthquakes = pd.read_csv('data_for_regression.csv')\n",
    "\n",
    "X = data_earthquakes[['Latitude', 'Longitude', 'Depth', 'Magnitude', 'Distance']]\n",
    "y = data_earthquakes['Days-till-eruption']"
   ]
  },
  {
   "cell_type": "code",
   "execution_count": 3,
   "metadata": {},
   "outputs": [],
   "source": [
    "X_train_validation, X_test, y_train_validation, y_test = model_selection.train_test_split(X, y, test_size = 0.33)\n",
    "\n",
    "# standardization    \n",
    "scaler = preprocessing.StandardScaler()\n",
    "scaler.fit(X_train_validation)\n",
    "X_train_validation = scaler.transform(X_train_validation)\n",
    "X_test = scaler.transform(X_test)\n"
   ]
  },
  {
   "cell_type": "markdown",
   "metadata": {},
   "source": [
    "Using grid search to find the optimal hyperparameters of a model"
   ]
  },
  {
   "cell_type": "code",
   "execution_count": 4,
   "metadata": {},
   "outputs": [
    {
     "name": "stdout",
     "output_type": "stream",
     "text": [
      "Best r2 score:  0.544340946732603\n"
     ]
    }
   ],
   "source": [
    "grid_model = ensemble.GradientBoostingRegressor()\n",
    "\n",
    "params = {\n",
    "    'n_estimators': [50],\n",
    "    'max_depth': [49, 50, 51],\n",
    "    'min_samples_split': [15, 20, 25],\n",
    "    'learning_rate': [0.09, 0.1, 0.12],\n",
    "    'loss': ['ls']\n",
    "}\n",
    "\n",
    "grid = model_selection.GridSearchCV(grid_model, param_grid=params, scoring='r2', cv=10, return_train_score=True)\n",
    "grid.fit(X_train_validation, y_train_validation)\n",
    "print('Best r2 score: ', grid.best_score_)"
   ]
  },
  {
   "cell_type": "code",
   "execution_count": 5,
   "metadata": {},
   "outputs": [
    {
     "name": "stdout",
     "output_type": "stream",
     "text": [
      "Best parameters: \n",
      "\tn_estimators:  50 \n",
      "\tmax_depth:  51 \n",
      "\tmin_samples_split: 15 \n",
      "\tlearning_rate:  0.1\n"
     ]
    }
   ],
   "source": [
    "print('Best parameters: \\n\\tn_estimators: ', grid.best_params_['n_estimators'], \n",
    "      '\\n\\tmax_depth: ', grid.best_params_['max_depth'], \n",
    "      '\\n\\tmin_samples_split:', grid.best_params_['min_samples_split'], \n",
    "      '\\n\\tlearning_rate: ', grid.best_params_['learning_rate'])\n"
   ]
  },
  {
   "cell_type": "markdown",
   "metadata": {},
   "source": [
    "Testing model with optimal parameters and bigger n_estimators"
   ]
  },
  {
   "cell_type": "code",
   "execution_count": 6,
   "metadata": {},
   "outputs": [
    {
     "name": "stdout",
     "output_type": "stream",
     "text": [
      "Test results\n",
      "r2_score:  0.6178474652129669\n",
      "RMSE:  8.362943068568423\n",
      "\n",
      "\n",
      "Train results\n",
      "r2_score:  0.9999999992397545\n",
      "RMSE:  0.0003745995035900799\n"
     ]
    }
   ],
   "source": [
    "model = ensemble.GradientBoostingRegressor(n_estimators=500, \n",
    "                                           max_depth=grid.best_params_['max_depth'],\n",
    "                                           min_samples_split=grid.best_params_['min_samples_split'],\n",
    "                                           learning_rate=grid.best_params_['learning_rate'],\n",
    "                                           loss='ls'\n",
    "                                          )\n",
    "\n",
    "model.fit(X_train_validation, y_train_validation)\n",
    "y_test_predicted = model.predict(X_test)\n",
    "y_train_predicted = model.predict(X_train_validation)\n",
    "\n",
    "print('Test results')\n",
    "print('r2_score: ', metrics.r2_score(y_test, y_test_predicted))\n",
    "print('RMSE: ', metrics.mean_squared_error(y_test, y_test_predicted, squared=False))\n",
    "\n",
    "print('\\n\\nTrain results')\n",
    "print('r2_score: ', metrics.r2_score(y_train_validation, y_train_predicted))\n",
    "print('RMSE: ', metrics.mean_squared_error(y_train_validation, y_train_predicted, squared=False))"
   ]
  },
  {
   "cell_type": "markdown",
   "metadata": {},
   "source": [
    "Cross validation on model with optimal parameters"
   ]
  },
  {
   "cell_type": "code",
   "execution_count": 7,
   "metadata": {},
   "outputs": [
    {
     "name": "stdout",
     "output_type": "stream",
     "text": [
      "Cross validation r_2 score:  0.6206063486819171\n"
     ]
    }
   ],
   "source": [
    "kf = model_selection.KFold(n_splits=3, shuffle=True, random_state=1)\n",
    "\n",
    "model = ensemble.GradientBoostingRegressor(n_estimators=500, \n",
    "                                           max_depth=grid.best_params_['max_depth'],\n",
    "                                           min_samples_split=grid.best_params_['min_samples_split'],\n",
    "                                           learning_rate=grid.best_params_['learning_rate'],\n",
    "                                           loss='ls'\n",
    "                                          )\n",
    "\n",
    "scores = model_selection.cross_val_score(model, X, y, scoring='r2', cv=kf)\n",
    "print('Cross validation r_2 score: ', scores.mean())"
   ]
  },
  {
   "cell_type": "markdown",
   "metadata": {},
   "source": [
    "### Saving model"
   ]
  },
  {
   "cell_type": "code",
   "execution_count": 3,
   "metadata": {},
   "outputs": [],
   "source": [
    "# standardization    \n",
    "scaler = preprocessing.StandardScaler()\n",
    "scaler.fit(X)\n",
    "X = scaler.transform(X)\n",
    "\n",
    "model = ensemble.GradientBoostingRegressor(n_estimators=500, \n",
    "                                           max_depth=51,\n",
    "                                           min_samples_split=15,\n",
    "                                           learning_rate=0.1,\n",
    "                                           loss='ls'\n",
    "                                          )\n",
    "model.fit(X, y)\n",
    "with open('models/regression.model', 'wb') as pickle_file:\n",
    "    pickle.dump(model, pickle_file)\n",
    "with open('models/regression.scaler', 'wb') as pickle_file:\n",
    "    pickle.dump(scaler, pickle_file)"
   ]
  }
 ],
 "metadata": {
  "kernelspec": {
   "display_name": "Python 3",
   "language": "python",
   "name": "python3"
  },
  "language_info": {
   "codemirror_mode": {
    "name": "ipython",
    "version": 3
   },
   "file_extension": ".py",
   "mimetype": "text/x-python",
   "name": "python",
   "nbconvert_exporter": "python",
   "pygments_lexer": "ipython3",
   "version": "3.7.6"
  }
 },
 "nbformat": 4,
 "nbformat_minor": 4
}
