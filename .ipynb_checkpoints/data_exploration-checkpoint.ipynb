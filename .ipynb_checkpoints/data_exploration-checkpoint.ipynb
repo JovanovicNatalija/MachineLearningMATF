{
 "cells": [
  {
   "cell_type": "markdown",
   "metadata": {},
   "source": [
    "# Datasets and Features"
   ]
  },
  {
   "cell_type": "code",
   "execution_count": 1,
   "metadata": {},
   "outputs": [],
   "source": [
    "import pandas as pd\n",
    "import numpy as np\n",
    "import matplotlib.pyplot as plt\n",
    "import math"
   ]
  },
  {
   "cell_type": "markdown",
   "metadata": {},
   "source": [
    "## Earthquakes  \n",
    "data from https://wovodat.org/populate/convertie/Volcano_zone/main.php?data_type=hypocenter_search&volcanoes=Kilauea"
   ]
  },
  {
   "cell_type": "code",
   "execution_count": 2,
   "metadata": {},
   "outputs": [],
   "source": [
    "data_earthquakes = pd.read_csv(\"Kilauea_earthquakes.csv\")[['Date-time', 'Latitude', 'Longitude', 'Depth', \n",
    "                                                           'Magnitude', 'Earthquake-type', 'Distance']]"
   ]
  },
  {
   "cell_type": "markdown",
   "metadata": {},
   "source": [
    "Depth and Magnitude columns visualisation:"
   ]
  },
  {
   "cell_type": "code",
   "execution_count": 3,
   "metadata": {},
   "outputs": [
    {
     "data": {
      "image/png": "[encoded data removed]",
      "text/plain": [
       "<Figure size 432x288 with 1 Axes>"
      ]
     },
     "metadata": {
      "needs_background": "light"
     },
     "output_type": "display_data"
    },
    {
     "data": {
      "image/png": "[encoded data removed]",
      "text/plain": [
       "<Figure size 432x288 with 1 Axes>"
      ]
     },
     "metadata": {
      "needs_background": "light"
     },
     "output_type": "display_data"
    },
    {
     "data": {
      "image/png": "[encoded data removed]",
      "text/plain": [
       "<Figure size 432x288 with 1 Axes>"
      ]
     },
     "metadata": {
      "needs_background": "light"
     },
     "output_type": "display_data"
    }
   ],
   "source": [
    "data_earthquakes[['Depth']].hist(alpha=0.4, color='red')\n",
    "data_earthquakes[['Magnitude']].hist(alpha=0.4, color='red')\n",
    "data_earthquakes[['Distance']].hist(alpha=0.4, color='red')    #in km^2\n",
    "plt.show()"
   ]
  },
  {
   "cell_type": "markdown",
   "metadata": {},
   "source": [
    "Unique values of column 'Earthquake-type':"
   ]
  },
  {
   "cell_type": "code",
   "execution_count": 4,
   "metadata": {},
   "outputs": [
    {
     "name": "stdout",
     "output_type": "stream",
     "text": [
      "['V' 'X' 'R']\n"
     ]
    }
   ],
   "source": [
    "print(data_earthquakes['Earthquake-type'].unique())"
   ]
  },
  {
   "cell_type": "markdown",
   "metadata": {},
   "source": [
    "**V**: volcano tectonic earthquake - an earthquake caused by the movement of magma beneath the surface of the Earth   \n",
    "**R**: remotely triggered earthquakes - a result of the effects of large earthquakes at considerable distance   \n",
    "**X**: No info on earthquake type"
   ]
  },
  {
   "cell_type": "code",
   "execution_count": 5,
   "metadata": {
    "scrolled": true
   },
   "outputs": [
    {
     "data": {
      "text/html": [
       "<div>\n",
       "<style scoped>\n",
       "    .dataframe tbody tr th:only-of-type {\n",
       "        vertical-align: middle;\n",
       "    }\n",
       "\n",
       "    .dataframe tbody tr th {\n",
       "        vertical-align: top;\n",
       "    }\n",
       "\n",
       "    .dataframe thead th {\n",
       "        text-align: right;\n",
       "    }\n",
       "</style>\n",
       "<table border=\"1\" class=\"dataframe\">\n",
       "  <thead>\n",
       "    <tr style=\"text-align: right;\">\n",
       "      <th></th>\n",
       "      <th>Date-time</th>\n",
       "      <th>Latitude</th>\n",
       "      <th>Longitude</th>\n",
       "      <th>Depth</th>\n",
       "      <th>Magnitude</th>\n",
       "      <th>Earthquake-type</th>\n",
       "      <th>Distance</th>\n",
       "    </tr>\n",
       "  </thead>\n",
       "  <tbody>\n",
       "    <tr>\n",
       "      <th>0</th>\n",
       "      <td>1932-05-30 00:21:27.</td>\n",
       "      <td>19.3500</td>\n",
       "      <td>-155.2833</td>\n",
       "      <td>12.00</td>\n",
       "      <td>3.93</td>\n",
       "      <td>V</td>\n",
       "      <td>7.9043</td>\n",
       "    </tr>\n",
       "    <tr>\n",
       "      <th>1</th>\n",
       "      <td>1932-06-14 15:21:45.</td>\n",
       "      <td>19.4667</td>\n",
       "      <td>-155.3667</td>\n",
       "      <td>13.00</td>\n",
       "      <td>4.25</td>\n",
       "      <td>V</td>\n",
       "      <td>9.7803</td>\n",
       "    </tr>\n",
       "    <tr>\n",
       "      <th>2</th>\n",
       "      <td>1932-07-08 09:00:49.</td>\n",
       "      <td>19.3133</td>\n",
       "      <td>-155.2650</td>\n",
       "      <td>9.60</td>\n",
       "      <td>4.22</td>\n",
       "      <td>V</td>\n",
       "      <td>12.1960</td>\n",
       "    </tr>\n",
       "    <tr>\n",
       "      <th>3</th>\n",
       "      <td>1932-07-09 15:08:00.</td>\n",
       "      <td>19.4100</td>\n",
       "      <td>-155.2850</td>\n",
       "      <td>30.00</td>\n",
       "      <td>3.60</td>\n",
       "      <td>V</td>\n",
       "      <td>1.2410</td>\n",
       "    </tr>\n",
       "    <tr>\n",
       "      <th>4</th>\n",
       "      <td>1932-12-27 23:51:05.</td>\n",
       "      <td>19.3917</td>\n",
       "      <td>-155.3083</td>\n",
       "      <td>21.00</td>\n",
       "      <td>3.41</td>\n",
       "      <td>V</td>\n",
       "      <td>3.9501</td>\n",
       "    </tr>\n",
       "    <tr>\n",
       "      <th>...</th>\n",
       "      <td>...</td>\n",
       "      <td>...</td>\n",
       "      <td>...</td>\n",
       "      <td>...</td>\n",
       "      <td>...</td>\n",
       "      <td>...</td>\n",
       "      <td>...</td>\n",
       "    </tr>\n",
       "    <tr>\n",
       "      <th>220882</th>\n",
       "      <td>2017-01-19 00:03:34.51</td>\n",
       "      <td>19.3957</td>\n",
       "      <td>-155.2327</td>\n",
       "      <td>28.64</td>\n",
       "      <td>2.60</td>\n",
       "      <td>R</td>\n",
       "      <td>6.3520</td>\n",
       "    </tr>\n",
       "    <tr>\n",
       "      <th>220883</th>\n",
       "      <td>2017-01-25 07:26:06.36</td>\n",
       "      <td>19.3812</td>\n",
       "      <td>-155.2820</td>\n",
       "      <td>2.38</td>\n",
       "      <td>2.70</td>\n",
       "      <td>R</td>\n",
       "      <td>4.4565</td>\n",
       "    </tr>\n",
       "    <tr>\n",
       "      <th>220884</th>\n",
       "      <td>2017-02-01 00:39:03.44</td>\n",
       "      <td>19.3872</td>\n",
       "      <td>-155.2798</td>\n",
       "      <td>2.56</td>\n",
       "      <td>2.70</td>\n",
       "      <td>R</td>\n",
       "      <td>3.8335</td>\n",
       "    </tr>\n",
       "    <tr>\n",
       "      <th>220885</th>\n",
       "      <td>2017-02-01 13:18:09.15</td>\n",
       "      <td>19.3868</td>\n",
       "      <td>-155.2790</td>\n",
       "      <td>2.65</td>\n",
       "      <td>2.80</td>\n",
       "      <td>R</td>\n",
       "      <td>3.8943</td>\n",
       "    </tr>\n",
       "    <tr>\n",
       "      <th>220886</th>\n",
       "      <td>2017-02-25 23:32:00.29</td>\n",
       "      <td>19.3742</td>\n",
       "      <td>-155.2125</td>\n",
       "      <td>3.12</td>\n",
       "      <td>2.50</td>\n",
       "      <td>R</td>\n",
       "      <td>9.3883</td>\n",
       "    </tr>\n",
       "  </tbody>\n",
       "</table>\n",
       "<p>220887 rows × 7 columns</p>\n",
       "</div>"
      ],
      "text/plain": [
       "                     Date-time  Latitude  Longitude  Depth  Magnitude  \\\n",
       "0         1932-05-30 00:21:27.   19.3500  -155.2833  12.00       3.93   \n",
       "1         1932-06-14 15:21:45.   19.4667  -155.3667  13.00       4.25   \n",
       "2         1932-07-08 09:00:49.   19.3133  -155.2650   9.60       4.22   \n",
       "3         1932-07-09 15:08:00.   19.4100  -155.2850  30.00       3.60   \n",
       "4         1932-12-27 23:51:05.   19.3917  -155.3083  21.00       3.41   \n",
       "...                        ...       ...        ...    ...        ...   \n",
       "220882  2017-01-19 00:03:34.51   19.3957  -155.2327  28.64       2.60   \n",
       "220883  2017-01-25 07:26:06.36   19.3812  -155.2820   2.38       2.70   \n",
       "220884  2017-02-01 00:39:03.44   19.3872  -155.2798   2.56       2.70   \n",
       "220885  2017-02-01 13:18:09.15   19.3868  -155.2790   2.65       2.80   \n",
       "220886  2017-02-25 23:32:00.29   19.3742  -155.2125   3.12       2.50   \n",
       "\n",
       "       Earthquake-type  Distance  \n",
       "0                    V    7.9043  \n",
       "1                    V    9.7803  \n",
       "2                    V   12.1960  \n",
       "3                    V    1.2410  \n",
       "4                    V    3.9501  \n",
       "...                ...       ...  \n",
       "220882               R    6.3520  \n",
       "220883               R    4.4565  \n",
       "220884               R    3.8335  \n",
       "220885               R    3.8943  \n",
       "220886               R    9.3883  \n",
       "\n",
       "[220887 rows x 7 columns]"
      ]
     },
     "execution_count": 5,
     "metadata": {},
     "output_type": "execute_result"
    }
   ],
   "source": [
    "data_earthquakes"
   ]
  },
  {
   "cell_type": "markdown",
   "metadata": {},
   "source": [
    "## Eruptions  \n",
    "data from https://volcano.si.edu/volcano.cfm?vn=332010"
   ]
  },
  {
   "cell_type": "code",
   "execution_count": 6,
   "metadata": {},
   "outputs": [
    {
     "data": {
      "text/html": [
       "<div>\n",
       "<style scoped>\n",
       "    .dataframe tbody tr th:only-of-type {\n",
       "        vertical-align: middle;\n",
       "    }\n",
       "\n",
       "    .dataframe tbody tr th {\n",
       "        vertical-align: top;\n",
       "    }\n",
       "\n",
       "    .dataframe thead th {\n",
       "        text-align: right;\n",
       "    }\n",
       "</style>\n",
       "<table border=\"1\" class=\"dataframe\">\n",
       "  <thead>\n",
       "    <tr style=\"text-align: right;\">\n",
       "      <th></th>\n",
       "      <th>Number</th>\n",
       "      <th>Date</th>\n",
       "      <th>Repose</th>\n",
       "      <th>Length</th>\n",
       "      <th>Flow Area</th>\n",
       "      <th>Flow Volume</th>\n",
       "      <th>Rate</th>\n",
       "      <th>Location</th>\n",
       "    </tr>\n",
       "  </thead>\n",
       "  <tbody>\n",
       "    <tr>\n",
       "      <th>0</th>\n",
       "      <td>1.0</td>\n",
       "      <td>1/3/83</td>\n",
       "      <td>0.0</td>\n",
       "      <td>99 hrs</td>\n",
       "      <td>4.8</td>\n",
       "      <td>14.0</td>\n",
       "      <td>141</td>\n",
       "      <td>Fissure 1</td>\n",
       "    </tr>\n",
       "    <tr>\n",
       "      <th>1</th>\n",
       "      <td>2.0</td>\n",
       "      <td>2/25/83</td>\n",
       "      <td>33.0</td>\n",
       "      <td>174 hrs</td>\n",
       "      <td>2.7</td>\n",
       "      <td>14.0</td>\n",
       "      <td>80</td>\n",
       "      <td>Pu'u 'O'o &amp; \"1123\" vent</td>\n",
       "    </tr>\n",
       "    <tr>\n",
       "      <th>2</th>\n",
       "      <td>3.0</td>\n",
       "      <td>3/28/83</td>\n",
       "      <td>23.5</td>\n",
       "      <td>290 hrs</td>\n",
       "      <td>7.9</td>\n",
       "      <td>38.0</td>\n",
       "      <td>131</td>\n",
       "      <td>Pu'u 'O'o</td>\n",
       "    </tr>\n",
       "  </tbody>\n",
       "</table>\n",
       "</div>"
      ],
      "text/plain": [
       "   Number     Date  Repose   Length  Flow Area  Flow Volume  Rate  \\\n",
       "0     1.0   1/3/83     0.0   99 hrs        4.8         14.0   141   \n",
       "1     2.0  2/25/83    33.0  174 hrs        2.7         14.0    80   \n",
       "2     3.0  3/28/83    23.5  290 hrs        7.9         38.0   131   \n",
       "\n",
       "                  Location  \n",
       "0                Fissure 1  \n",
       "1  Pu'u 'O'o & \"1123\" vent  \n",
       "2                Pu'u 'O'o  "
      ]
     },
     "execution_count": 6,
     "metadata": {},
     "output_type": "execute_result"
    }
   ],
   "source": [
    "data_eruptions = pd.read_csv(\"eruptions.csv\")\n",
    "data_eruptions.head(3)"
   ]
  },
  {
   "cell_type": "code",
   "execution_count": 7,
   "metadata": {},
   "outputs": [
    {
     "data": {
      "text/html": [
       "<div>\n",
       "<style scoped>\n",
       "    .dataframe tbody tr th:only-of-type {\n",
       "        vertical-align: middle;\n",
       "    }\n",
       "\n",
       "    .dataframe tbody tr th {\n",
       "        vertical-align: top;\n",
       "    }\n",
       "\n",
       "    .dataframe thead th {\n",
       "        text-align: right;\n",
       "    }\n",
       "</style>\n",
       "<table border=\"1\" class=\"dataframe\">\n",
       "  <thead>\n",
       "    <tr style=\"text-align: right;\">\n",
       "      <th></th>\n",
       "      <th>Number</th>\n",
       "      <th>Date</th>\n",
       "      <th>Repose</th>\n",
       "      <th>Length</th>\n",
       "      <th>Flow Area</th>\n",
       "      <th>Flow Volume</th>\n",
       "      <th>Rate</th>\n",
       "      <th>Location</th>\n",
       "    </tr>\n",
       "  </thead>\n",
       "  <tbody>\n",
       "    <tr>\n",
       "      <th>46</th>\n",
       "      <td>46.0</td>\n",
       "      <td>6/2/86</td>\n",
       "      <td>24.6</td>\n",
       "      <td>10.9 hrs</td>\n",
       "      <td>-9999.0</td>\n",
       "      <td>9.8</td>\n",
       "      <td>-9999</td>\n",
       "      <td>Pu'u 'O'o</td>\n",
       "    </tr>\n",
       "    <tr>\n",
       "      <th>47</th>\n",
       "      <td>47.0</td>\n",
       "      <td>6/26/86</td>\n",
       "      <td>23.6</td>\n",
       "      <td>12.6 hrs</td>\n",
       "      <td>-9999.0</td>\n",
       "      <td>8.8</td>\n",
       "      <td>-9999</td>\n",
       "      <td>Pu'u 'O'o</td>\n",
       "    </tr>\n",
       "    <tr>\n",
       "      <th>48</th>\n",
       "      <td>48.0</td>\n",
       "      <td>7/20/86</td>\n",
       "      <td>24.0</td>\n",
       "      <td>3960 hrs</td>\n",
       "      <td>41.0</td>\n",
       "      <td>500.0</td>\n",
       "      <td>-9999</td>\n",
       "      <td>Kupaianaha</td>\n",
       "    </tr>\n",
       "  </tbody>\n",
       "</table>\n",
       "</div>"
      ],
      "text/plain": [
       "    Number     Date  Repose    Length  Flow Area  Flow Volume  Rate  \\\n",
       "46    46.0   6/2/86    24.6  10.9 hrs    -9999.0          9.8 -9999   \n",
       "47    47.0  6/26/86    23.6  12.6 hrs    -9999.0          8.8 -9999   \n",
       "48    48.0  7/20/86    24.0  3960 hrs       41.0        500.0 -9999   \n",
       "\n",
       "      Location  \n",
       "46   Pu'u 'O'o  \n",
       "47   Pu'u 'O'o  \n",
       "48  Kupaianaha  "
      ]
     },
     "execution_count": 7,
     "metadata": {},
     "output_type": "execute_result"
    }
   ],
   "source": [
    "data_eruptions.tail(3)"
   ]
  },
  {
   "cell_type": "markdown",
   "metadata": {},
   "source": [
    "Only the rows between the 1983 and 1987 are kept, to match eruption data."
   ]
  },
  {
   "cell_type": "code",
   "execution_count": 8,
   "metadata": {},
   "outputs": [
    {
     "data": {
      "text/html": [
       "<div>\n",
       "<style scoped>\n",
       "    .dataframe tbody tr th:only-of-type {\n",
       "        vertical-align: middle;\n",
       "    }\n",
       "\n",
       "    .dataframe tbody tr th {\n",
       "        vertical-align: top;\n",
       "    }\n",
       "\n",
       "    .dataframe thead th {\n",
       "        text-align: right;\n",
       "    }\n",
       "</style>\n",
       "<table border=\"1\" class=\"dataframe\">\n",
       "  <thead>\n",
       "    <tr style=\"text-align: right;\">\n",
       "      <th></th>\n",
       "      <th>Date-time</th>\n",
       "      <th>Latitude</th>\n",
       "      <th>Longitude</th>\n",
       "      <th>Depth</th>\n",
       "      <th>Magnitude</th>\n",
       "      <th>Earthquake-type</th>\n",
       "      <th>Distance</th>\n",
       "    </tr>\n",
       "  </thead>\n",
       "  <tbody>\n",
       "    <tr>\n",
       "      <th>0</th>\n",
       "      <td>1983-01-01 00:18:50.63</td>\n",
       "      <td>19.3052</td>\n",
       "      <td>-155.2292</td>\n",
       "      <td>6.11</td>\n",
       "      <td>1.92</td>\n",
       "      <td>R</td>\n",
       "      <td>14.2327</td>\n",
       "    </tr>\n",
       "    <tr>\n",
       "      <th>1</th>\n",
       "      <td>1983-01-01 00:18:50.63</td>\n",
       "      <td>19.3052</td>\n",
       "      <td>-155.2292</td>\n",
       "      <td>6.11</td>\n",
       "      <td>1.92</td>\n",
       "      <td>X</td>\n",
       "      <td>14.2327</td>\n",
       "    </tr>\n",
       "    <tr>\n",
       "      <th>2</th>\n",
       "      <td>1983-01-01 00:43:32.52</td>\n",
       "      <td>19.3628</td>\n",
       "      <td>-155.1700</td>\n",
       "      <td>3.05</td>\n",
       "      <td>2.14</td>\n",
       "      <td>X</td>\n",
       "      <td>13.8738</td>\n",
       "    </tr>\n",
       "  </tbody>\n",
       "</table>\n",
       "</div>"
      ],
      "text/plain": [
       "                Date-time  Latitude  Longitude  Depth  Magnitude  \\\n",
       "0  1983-01-01 00:18:50.63   19.3052  -155.2292   6.11       1.92   \n",
       "1  1983-01-01 00:18:50.63   19.3052  -155.2292   6.11       1.92   \n",
       "2  1983-01-01 00:43:32.52   19.3628  -155.1700   3.05       2.14   \n",
       "\n",
       "  Earthquake-type  Distance  \n",
       "0               R   14.2327  \n",
       "1               X   14.2327  \n",
       "2               X   13.8738  "
      ]
     },
     "execution_count": 8,
     "metadata": {},
     "output_type": "execute_result"
    }
   ],
   "source": [
    "first_index = data_earthquakes[data_earthquakes['Date-time'].str[:4] == '1983'].index[0]\n",
    "last_index = data_earthquakes[data_earthquakes['Date-time'].str[:4] == '1987'].index[0]\n",
    "\n",
    "data_earthquakes = data_earthquakes[first_index:last_index]\n",
    "data_earthquakes = data_earthquakes.reset_index(drop=True)\n",
    "\n",
    "data_earthquakes.head(3)"
   ]
  },
  {
   "cell_type": "code",
   "execution_count": 9,
   "metadata": {},
   "outputs": [
    {
     "data": {
      "text/html": [
       "<div>\n",
       "<style scoped>\n",
       "    .dataframe tbody tr th:only-of-type {\n",
       "        vertical-align: middle;\n",
       "    }\n",
       "\n",
       "    .dataframe tbody tr th {\n",
       "        vertical-align: top;\n",
       "    }\n",
       "\n",
       "    .dataframe thead th {\n",
       "        text-align: right;\n",
       "    }\n",
       "</style>\n",
       "<table border=\"1\" class=\"dataframe\">\n",
       "  <thead>\n",
       "    <tr style=\"text-align: right;\">\n",
       "      <th></th>\n",
       "      <th>Date-time</th>\n",
       "      <th>Latitude</th>\n",
       "      <th>Longitude</th>\n",
       "      <th>Depth</th>\n",
       "      <th>Magnitude</th>\n",
       "      <th>Earthquake-type</th>\n",
       "      <th>Distance</th>\n",
       "    </tr>\n",
       "  </thead>\n",
       "  <tbody>\n",
       "    <tr>\n",
       "      <th>17483</th>\n",
       "      <td>1986-12-30 15:21:50.93</td>\n",
       "      <td>19.3442</td>\n",
       "      <td>-155.1078</td>\n",
       "      <td>0.03</td>\n",
       "      <td>1.85</td>\n",
       "      <td>X</td>\n",
       "      <td>20.6460</td>\n",
       "    </tr>\n",
       "    <tr>\n",
       "      <th>17484</th>\n",
       "      <td>1986-12-30 21:57:33.46</td>\n",
       "      <td>19.3553</td>\n",
       "      <td>-155.0978</td>\n",
       "      <td>5.45</td>\n",
       "      <td>1.84</td>\n",
       "      <td>X</td>\n",
       "      <td>21.1472</td>\n",
       "    </tr>\n",
       "    <tr>\n",
       "      <th>17485</th>\n",
       "      <td>1986-12-30 21:57:33.46</td>\n",
       "      <td>19.3553</td>\n",
       "      <td>-155.0978</td>\n",
       "      <td>5.45</td>\n",
       "      <td>1.84</td>\n",
       "      <td>R</td>\n",
       "      <td>21.1472</td>\n",
       "    </tr>\n",
       "  </tbody>\n",
       "</table>\n",
       "</div>"
      ],
      "text/plain": [
       "                    Date-time  Latitude  Longitude  Depth  Magnitude  \\\n",
       "17483  1986-12-30 15:21:50.93   19.3442  -155.1078   0.03       1.85   \n",
       "17484  1986-12-30 21:57:33.46   19.3553  -155.0978   5.45       1.84   \n",
       "17485  1986-12-30 21:57:33.46   19.3553  -155.0978   5.45       1.84   \n",
       "\n",
       "      Earthquake-type  Distance  \n",
       "17483               X   20.6460  \n",
       "17484               X   21.1472  \n",
       "17485               R   21.1472  "
      ]
     },
     "execution_count": 9,
     "metadata": {},
     "output_type": "execute_result"
    }
   ],
   "source": [
    "data_earthquakes.tail(3)"
   ]
  },
  {
   "cell_type": "markdown",
   "metadata": {},
   "source": [
    "     \n",
    "Change date format in eruptions table."
   ]
  },
  {
   "cell_type": "code",
   "execution_count": 10,
   "metadata": {},
   "outputs": [
    {
     "data": {
      "text/html": [
       "<div>\n",
       "<style scoped>\n",
       "    .dataframe tbody tr th:only-of-type {\n",
       "        vertical-align: middle;\n",
       "    }\n",
       "\n",
       "    .dataframe tbody tr th {\n",
       "        vertical-align: top;\n",
       "    }\n",
       "\n",
       "    .dataframe thead th {\n",
       "        text-align: right;\n",
       "    }\n",
       "</style>\n",
       "<table border=\"1\" class=\"dataframe\">\n",
       "  <thead>\n",
       "    <tr style=\"text-align: right;\">\n",
       "      <th></th>\n",
       "      <th>Number</th>\n",
       "      <th>Date</th>\n",
       "      <th>Repose</th>\n",
       "      <th>Length</th>\n",
       "      <th>Flow Area</th>\n",
       "      <th>Flow Volume</th>\n",
       "      <th>Rate</th>\n",
       "      <th>Location</th>\n",
       "    </tr>\n",
       "  </thead>\n",
       "  <tbody>\n",
       "    <tr>\n",
       "      <th>0</th>\n",
       "      <td>1.0</td>\n",
       "      <td>1983-01-03</td>\n",
       "      <td>0.0</td>\n",
       "      <td>99 hrs</td>\n",
       "      <td>4.8</td>\n",
       "      <td>14.0</td>\n",
       "      <td>141</td>\n",
       "      <td>Fissure 1</td>\n",
       "    </tr>\n",
       "    <tr>\n",
       "      <th>1</th>\n",
       "      <td>2.0</td>\n",
       "      <td>1983-02-25</td>\n",
       "      <td>33.0</td>\n",
       "      <td>174 hrs</td>\n",
       "      <td>2.7</td>\n",
       "      <td>14.0</td>\n",
       "      <td>80</td>\n",
       "      <td>Pu'u 'O'o &amp; \"1123\" vent</td>\n",
       "    </tr>\n",
       "  </tbody>\n",
       "</table>\n",
       "</div>"
      ],
      "text/plain": [
       "   Number        Date  Repose   Length  Flow Area  Flow Volume  Rate  \\\n",
       "0     1.0  1983-01-03     0.0   99 hrs        4.8         14.0   141   \n",
       "1     2.0  1983-02-25    33.0  174 hrs        2.7         14.0    80   \n",
       "\n",
       "                  Location  \n",
       "0                Fissure 1  \n",
       "1  Pu'u 'O'o & \"1123\" vent  "
      ]
     },
     "execution_count": 10,
     "metadata": {},
     "output_type": "execute_result"
    }
   ],
   "source": [
    "# function that changes mm/dd/yy format to yyyy-mm-dd format\n",
    "def change_date_format(date):\n",
    "    (m, d, y) = date.split('/')\n",
    "    if int(m) < 10: m = '0' + m\n",
    "    if int(d) < 10: d = '0' + d\n",
    "    y = '19' + y\n",
    "    return y + '-' + m + '-' + d\n",
    "\n",
    "eruptions_dates = []\n",
    "\n",
    "for date in data_eruptions['Date']:\n",
    "    eruptions_dates.append(change_date_format(date))  \n",
    "\n",
    "data_eruptions['Date'] = eruptions_dates\n",
    "\n",
    "data_eruptions.head(2)"
   ]
  },
  {
   "cell_type": "code",
   "execution_count": 11,
   "metadata": {},
   "outputs": [],
   "source": [
    "from datetime import datetime\n",
    "from datetime import timedelta\n",
    "\n",
    "# is date within time frame, time frame is given with start date and duration in hours\n",
    "def is_during(date, start_date, duration):\n",
    "    \n",
    "    date = datetime.strptime(date, '%Y-%m-%d %H:%M:%S.%f')\n",
    "    \n",
    "    start_date = datetime.strptime(start_date, '%Y-%m-%d')\n",
    "    end_date = start_date + timedelta(hours = float(duration[:-4]))\n",
    "\n",
    "    if start_date <= date <= end_date:\n",
    "        return True\n",
    "    else:\n",
    "        return False\n",
    "\n",
    "# is date2 tomorrow from date1\n",
    "def is_tomorrow(date1, date2):\n",
    "    \n",
    "    date1 = datetime.strptime(date1, '%Y-%m-%d %H:%M:%S.%f')\n",
    "    date2 = datetime.strptime(date2, '%Y-%m-%d')\n",
    "    \n",
    "    diff = date2 - date1\n",
    "    # diffrence in hours\n",
    "    h = diff.total_seconds() / 3600\n",
    "    \n",
    "    if 0 <= h <= 24:\n",
    "        return True\n",
    "    else:\n",
    "        return False\n",
    "\n",
    "# is date2 next week from date1\n",
    "def is_next_week(date1, date2):\n",
    "    \n",
    "    date1 = datetime.strptime(date1, '%Y-%m-%d %H:%M:%S.%f')\n",
    "    date2 = datetime.strptime(date2, '%Y-%m-%d')\n",
    "    \n",
    "    diff = date2 - date1\n",
    "    # diffrence in hours\n",
    "    h = diff.total_seconds() / 3600\n",
    "    \n",
    "    if 0 <= h <= 24*7:\n",
    "        return True\n",
    "    else:\n",
    "        return False\n"
   ]
  },
  {
   "cell_type": "markdown",
   "metadata": {},
   "source": [
    "Add colums to data_eruptions: is eruption in progress, is eruption going to hapen tommorrow and is eruption going to hapen next week."
   ]
  },
  {
   "cell_type": "code",
   "execution_count": 12,
   "metadata": {},
   "outputs": [],
   "source": [
    "is_erupting = []\n",
    "is_erupting_tomorrow = []\n",
    "is_erupting_next_week = []\n",
    "\n",
    "for date_time_earthquakes in data_earthquakes['Date-time']:\n",
    "    \n",
    "    is_erupting_curr = False\n",
    "    is_erupting_tomorrow_curr = False\n",
    "    is_erupting_next_week_curr = False\n",
    "    \n",
    "    for (date_eruptions, length) in zip(data_eruptions['Date'], data_eruptions['Length']):\n",
    "        \n",
    "        if is_during(date_time_earthquakes, date_eruptions, length):\n",
    "            is_erupting_curr = True\n",
    "            \n",
    "        if is_tomorrow(date_time_earthquakes, date_eruptions):\n",
    "            is_erupting_tomorrow_curr = True\n",
    "            \n",
    "        if is_next_week(date_time_earthquakes, date_eruptions):\n",
    "            is_erupting_next_week_curr = True\n",
    "        \n",
    "    is_erupting.append(is_erupting_curr)\n",
    "    is_erupting_tomorrow.append(is_erupting_tomorrow_curr)\n",
    "    is_erupting_next_week.append(is_erupting_next_week_curr)"
   ]
  },
  {
   "cell_type": "code",
   "execution_count": 13,
   "metadata": {},
   "outputs": [
    {
     "data": {
      "text/html": [
       "<div>\n",
       "<style scoped>\n",
       "    .dataframe tbody tr th:only-of-type {\n",
       "        vertical-align: middle;\n",
       "    }\n",
       "\n",
       "    .dataframe tbody tr th {\n",
       "        vertical-align: top;\n",
       "    }\n",
       "\n",
       "    .dataframe thead th {\n",
       "        text-align: right;\n",
       "    }\n",
       "</style>\n",
       "<table border=\"1\" class=\"dataframe\">\n",
       "  <thead>\n",
       "    <tr style=\"text-align: right;\">\n",
       "      <th></th>\n",
       "      <th>Date-time</th>\n",
       "      <th>Latitude</th>\n",
       "      <th>Longitude</th>\n",
       "      <th>Depth</th>\n",
       "      <th>Magnitude</th>\n",
       "      <th>Earthquake-type</th>\n",
       "      <th>Distance</th>\n",
       "      <th>Is-erupting</th>\n",
       "      <th>Is-erupting-tomorrow</th>\n",
       "      <th>Is-erupting-next-week</th>\n",
       "    </tr>\n",
       "  </thead>\n",
       "  <tbody>\n",
       "    <tr>\n",
       "      <th>0</th>\n",
       "      <td>1983-01-01 00:18:50.63</td>\n",
       "      <td>19.3052</td>\n",
       "      <td>-155.2292</td>\n",
       "      <td>6.11</td>\n",
       "      <td>1.92</td>\n",
       "      <td>R</td>\n",
       "      <td>14.2327</td>\n",
       "      <td>False</td>\n",
       "      <td>False</td>\n",
       "      <td>True</td>\n",
       "    </tr>\n",
       "    <tr>\n",
       "      <th>1</th>\n",
       "      <td>1983-01-01 00:18:50.63</td>\n",
       "      <td>19.3052</td>\n",
       "      <td>-155.2292</td>\n",
       "      <td>6.11</td>\n",
       "      <td>1.92</td>\n",
       "      <td>X</td>\n",
       "      <td>14.2327</td>\n",
       "      <td>False</td>\n",
       "      <td>False</td>\n",
       "      <td>True</td>\n",
       "    </tr>\n",
       "    <tr>\n",
       "      <th>2</th>\n",
       "      <td>1983-01-01 00:43:32.52</td>\n",
       "      <td>19.3628</td>\n",
       "      <td>-155.1700</td>\n",
       "      <td>3.05</td>\n",
       "      <td>2.14</td>\n",
       "      <td>X</td>\n",
       "      <td>13.8738</td>\n",
       "      <td>False</td>\n",
       "      <td>False</td>\n",
       "      <td>True</td>\n",
       "    </tr>\n",
       "    <tr>\n",
       "      <th>3</th>\n",
       "      <td>1983-01-01 00:43:32.52</td>\n",
       "      <td>19.3628</td>\n",
       "      <td>-155.1700</td>\n",
       "      <td>3.05</td>\n",
       "      <td>2.14</td>\n",
       "      <td>R</td>\n",
       "      <td>13.8738</td>\n",
       "      <td>False</td>\n",
       "      <td>False</td>\n",
       "      <td>True</td>\n",
       "    </tr>\n",
       "    <tr>\n",
       "      <th>4</th>\n",
       "      <td>1983-01-01 00:50:44.36</td>\n",
       "      <td>19.3818</td>\n",
       "      <td>-155.2425</td>\n",
       "      <td>0.98</td>\n",
       "      <td>2.23</td>\n",
       "      <td>R</td>\n",
       "      <td>6.3863</td>\n",
       "      <td>False</td>\n",
       "      <td>False</td>\n",
       "      <td>True</td>\n",
       "    </tr>\n",
       "  </tbody>\n",
       "</table>\n",
       "</div>"
      ],
      "text/plain": [
       "                Date-time  Latitude  Longitude  Depth  Magnitude  \\\n",
       "0  1983-01-01 00:18:50.63   19.3052  -155.2292   6.11       1.92   \n",
       "1  1983-01-01 00:18:50.63   19.3052  -155.2292   6.11       1.92   \n",
       "2  1983-01-01 00:43:32.52   19.3628  -155.1700   3.05       2.14   \n",
       "3  1983-01-01 00:43:32.52   19.3628  -155.1700   3.05       2.14   \n",
       "4  1983-01-01 00:50:44.36   19.3818  -155.2425   0.98       2.23   \n",
       "\n",
       "  Earthquake-type  Distance  Is-erupting  Is-erupting-tomorrow  \\\n",
       "0               R   14.2327        False                 False   \n",
       "1               X   14.2327        False                 False   \n",
       "2               X   13.8738        False                 False   \n",
       "3               R   13.8738        False                 False   \n",
       "4               R    6.3863        False                 False   \n",
       "\n",
       "   Is-erupting-next-week  \n",
       "0                   True  \n",
       "1                   True  \n",
       "2                   True  \n",
       "3                   True  \n",
       "4                   True  "
      ]
     },
     "execution_count": 13,
     "metadata": {},
     "output_type": "execute_result"
    }
   ],
   "source": [
    "data_earthquakes['Is-erupting'] = is_erupting\n",
    "data_earthquakes['Is-erupting-tomorrow'] = is_erupting_tomorrow\n",
    "data_earthquakes['Is-erupting-next-week'] = is_erupting_next_week\n",
    "\n",
    "data_earthquakes.head()"
   ]
  },
  {
   "cell_type": "code",
   "execution_count": 14,
   "metadata": {
    "scrolled": true
   },
   "outputs": [
    {
     "data": {
      "image/png": "[encoded data removed]",
      "text/plain": [
       "<Figure size 432x288 with 1 Axes>"
      ]
     },
     "metadata": {
      "needs_background": "light"
     },
     "output_type": "display_data"
    },
    {
     "data": {
      "image/png": "[encoded data removed]",
      "text/plain": [
       "<Figure size 432x288 with 1 Axes>"
      ]
     },
     "metadata": {
      "needs_background": "light"
     },
     "output_type": "display_data"
    },
    {
     "data": {
      "image/png": "[encoded data removed]",
      "text/plain": [
       "<Figure size 432x288 with 1 Axes>"
      ]
     },
     "metadata": {
      "needs_background": "light"
     },
     "output_type": "display_data"
    }
   ],
   "source": [
    "target_features = ['Is-erupting', 'Is-erupting-tomorrow', 'Is-erupting-next-week']\n",
    "features = ['Latitude', 'Longitude', 'Depth', 'Magnitude', 'Distance']\n",
    "\n",
    "for target_feature in target_features:\n",
    "    correlations = []\n",
    "    \n",
    "    for feature in features:\n",
    "        correlation = np.corrcoef(data_earthquakes[feature], data_earthquakes[target_feature])[0, 1]\n",
    "        correlations.append(correlation)\n",
    "\n",
    "    correlations_plot = pd.Series(correlations, index=features).sort_values()\n",
    "    correlations_plot.plot(kind = 'barh', color = 'red', alpha = 0.4)\n",
    "    plt.title(f'Corelations with column \\'{target_feature}\\':')\n",
    "    plt.yticks(np.arange(5), correlations_plot.index)\n",
    "    plt.show()"
   ]
  },
  {
   "cell_type": "markdown",
   "metadata": {},
   "source": [
    "Saving data for binary classification"
   ]
  },
  {
   "cell_type": "code",
   "execution_count": 15,
   "metadata": {},
   "outputs": [],
   "source": [
    "data_earthquakes_binary = data_earthquakes[['Latitude', 'Longitude', 'Depth', 'Magnitude', 'Distance', 'Is-erupting', \n",
    "                                            'Is-erupting-tomorrow', 'Is-erupting-next-week']]\n",
    "data_earthquakes_binary.to_csv('data_for_classification.csv')"
   ]
  }
 ],
 "metadata": {
  "kernelspec": {
   "display_name": "Python 3",
   "language": "python",
   "name": "python3"
  },
  "language_info": {
   "codemirror_mode": {
    "name": "ipython",
    "version": 3
   },
   "file_extension": ".py",
   "mimetype": "text/x-python",
   "name": "python",
   "nbconvert_exporter": "python",
   "pygments_lexer": "ipython3",
   "version": "3.7.6"
  }
 },
 "nbformat": 4,
 "nbformat_minor": 4
}
